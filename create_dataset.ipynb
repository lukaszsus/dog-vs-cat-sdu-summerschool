{
 "cells": [
  {
   "cell_type": "markdown",
   "metadata": {},
   "source": [
    "## Imports"
   ]
  },
  {
   "cell_type": "code",
   "execution_count": 1,
   "metadata": {},
   "outputs": [],
   "source": [
    "import os\n",
    "import re\n",
    "import numpy as np\n",
    "from PIL import Image\n",
    "from shutil import copyfile"
   ]
  },
  {
   "cell_type": "code",
   "execution_count": 2,
   "metadata": {},
   "outputs": [],
   "source": [
    "raw_ds_path = '../dataset-raw/'"
   ]
  },
  {
   "cell_type": "markdown",
   "metadata": {},
   "source": [
    "## Resizing images\n",
    "\n",
    "Firstly, I'm going to resize images to size 150x150 pixels."
   ]
  },
  {
   "cell_type": "code",
   "execution_count": 3,
   "metadata": {},
   "outputs": [],
   "source": [
    "width = 150\n",
    "height = 150\n",
    "resized_img_ds_path = '../dataset-resized'\n",
    "# just to be sure that directory exists\n",
    "if not os.path.exists(resized_img_ds_path):\n",
    "    os.makedirs(resized_img_ds_path)\n",
    "\n",
    "if os.path.isdir(raw_ds_path):\n",
    "    all_files = os.listdir(raw_ds_path)\n",
    "    for file in all_files:\n",
    "        img = Image.open(os.path.join(raw_ds_path, file))\n",
    "        img = img.resize((width, height), Image.ANTIALIAS)\n",
    "        img.save(os.path.join(resized_img_ds_path, file))"
   ]
  },
  {
   "cell_type": "markdown",
   "metadata": {},
   "source": [
    "I'm going to make two lists containing paths to all dog files and all cat files."
   ]
  },
  {
   "cell_type": "code",
   "execution_count": 4,
   "metadata": {},
   "outputs": [],
   "source": [
    "cat_files = list()\n",
    "dog_files = list()\n",
    "\n",
    "if os.path.isdir(resized_img_ds_path):\n",
    "    all_files = os.listdir(resized_img_ds_path)\n",
    "    for file in all_files:\n",
    "        m = re.match(\"dog.+\", file)\n",
    "        if m is not None:\n",
    "            dog_files.append(os.path.join(resized_img_ds_path, file))\n",
    "        else:\n",
    "            cat_files.append(os.path.join(resized_img_ds_path, file))"
   ]
  },
  {
   "cell_type": "markdown",
   "metadata": {},
   "source": [
    "I'm going to randomly split images into train and validation dataset. I don't need to make a test set because I don't set a random seed. What does it mean for me? It mean that I can split this dataset again after seting my hyperparameters and model's architecture and then train it again. It will allow me to estimate my test error."
   ]
  },
  {
   "cell_type": "markdown",
   "metadata": {},
   "source": [
    "## Spliting data\n",
    "I'm going to split dataset in stratified way."
   ]
  },
  {
   "cell_type": "code",
   "execution_count": 5,
   "metadata": {},
   "outputs": [],
   "source": [
    "dog_ds_size = len(dog_files)\n",
    "cat_ds_size = len(cat_files)\n",
    "\n",
    "split_factor = 0.9 # 1.0 means all examples will be treated as training set\n",
    "\n",
    "dog_indices = np.random.choice(dog_ds_size, int(split_factor*dog_ds_size), replace=False)\n",
    "cat_indices = np.random.choice(cat_ds_size, int(split_factor*cat_ds_size), replace=False)"
   ]
  },
  {
   "cell_type": "markdown",
   "metadata": {},
   "source": [
    "## Copying files\n",
    "Copying files into destination directory, splited to train and validation datasets. Make sure that your destination directiories are empty."
   ]
  },
  {
   "cell_type": "code",
   "execution_count": 6,
   "metadata": {},
   "outputs": [],
   "source": [
    "dst_dir = 'dataset'\n",
    "dst_train_dogs = os.path.join(dst_dir, 'train/dog')\n",
    "dst_train_cats = os.path.join(dst_dir, 'train/cat')\n",
    "dst_val_dogs = os.path.join(dst_dir, 'validation/dog')\n",
    "dst_val_cats = os.path.join(dst_dir, 'validation/cat')\n",
    "# just to be sure that directories exist\n",
    "os.makedirs(dst_dir)\n",
    "os.makedirs(dst_train_dogs)\n",
    "os.makedirs(dst_train_cats)\n",
    "os.makedirs(dst_val_dogs)\n",
    "os.makedirs(dst_val_cats)\n",
    "\n",
    "ext =  \".jpg\"\n",
    "\n",
    "# copying dogs\n",
    "for index in range(len(dog_files)):\n",
    "    if index in dog_indices:\n",
    "        copyfile(dog_files[index], os.path.join(dst_train_dogs, str(index) + ext))\n",
    "    else:\n",
    "        copyfile(dog_files[index], os.path.join(dst_val_dogs, str(index) + ext))\n",
    "        \n",
    "# copying cats\n",
    "for index in range(len(cat_files)):\n",
    "    if index in cat_indices:\n",
    "        copyfile(cat_files[index], os.path.join(dst_train_cats, str(index) + ext))\n",
    "    else:\n",
    "        copyfile(cat_files[index], os.path.join(dst_val_cats, str(index) + ext))"
   ]
  },
  {
   "cell_type": "code",
   "execution_count": null,
   "metadata": {},
   "outputs": [],
   "source": []
  }
 ],
 "metadata": {
  "kernelspec": {
   "display_name": "Python 3",
   "language": "python",
   "name": "python3"
  },
  "language_info": {
   "codemirror_mode": {
    "name": "ipython",
    "version": 3
   },
   "file_extension": ".py",
   "mimetype": "text/x-python",
   "name": "python",
   "nbconvert_exporter": "python",
   "pygments_lexer": "ipython3",
   "version": "3.6.8"
  }
 },
 "nbformat": 4,
 "nbformat_minor": 2
}
